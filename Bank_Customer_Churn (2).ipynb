{
  "nbformat": 4,
  "nbformat_minor": 0,
  "metadata": {
    "colab": {
      "name": "Untitled4.ipynb",
      "provenance": []
    },
    "kernelspec": {
      "name": "python3",
      "display_name": "Python 3"
    },
    "language_info": {
      "name": "python"
    }
  },
  "cells": [
    {
      "cell_type": "markdown",
      "metadata": {
        "id": "97bh9rizDYKV"
      },
      "source": [
        "## Bank Customer Churn Prediction using DNN \n",
        "In this notebook, you will be getting an idea,\n",
        "\n",
        "1. How to Started With ANN using TensorFlow 2.0\n",
        "2. Feature selection\n",
        "3. Differents type of optimizer and activation function\n",
        "4. Sampling techniques\n",
        "\n",
        "Data set\n",
        "https://www.kaggle.com/adammaus/predicting-churn-for-bank-customers"
      ]
    },
    {
      "cell_type": "code",
      "metadata": {
        "id": "I6TDaqG-U5tL"
      },
      "source": [
        "# Import the library for use for this project\n",
        "import pandas as pd\n",
        "import numpy as np\n",
        "import matplotlib.pyplot as plt\n",
        "%matplotlib inline\n",
        "import seaborn as sns\n",
        "import sklearn\n",
        "import warnings \n",
        "warnings.filterwarnings('ignore')"
      ],
      "execution_count": 45,
      "outputs": []
    },
    {
      "cell_type": "code",
      "metadata": {
        "id": "tZf4NNFoUjxR"
      },
      "source": [
        "data=pd.read_csv(\"Churn_Modelling.csv\")  "
      ],
      "execution_count": 46,
      "outputs": []
    },
    {
      "cell_type": "code",
      "metadata": {
        "id": "BMVtCbZjVDsE",
        "colab": {
          "base_uri": "https://localhost:8080/",
          "height": 195
        },
        "outputId": "4b0a7fa2-806e-4c9f-cdc6-83cfb8c7d28f"
      },
      "source": [
        "data.head()"
      ],
      "execution_count": 47,
      "outputs": [
        {
          "output_type": "execute_result",
          "data": {
            "text/html": [
              "<div>\n",
              "<style scoped>\n",
              "    .dataframe tbody tr th:only-of-type {\n",
              "        vertical-align: middle;\n",
              "    }\n",
              "\n",
              "    .dataframe tbody tr th {\n",
              "        vertical-align: top;\n",
              "    }\n",
              "\n",
              "    .dataframe thead th {\n",
              "        text-align: right;\n",
              "    }\n",
              "</style>\n",
              "<table border=\"1\" class=\"dataframe\">\n",
              "  <thead>\n",
              "    <tr style=\"text-align: right;\">\n",
              "      <th></th>\n",
              "      <th>RowNumber</th>\n",
              "      <th>CustomerId</th>\n",
              "      <th>Surname</th>\n",
              "      <th>CreditScore</th>\n",
              "      <th>Geography</th>\n",
              "      <th>Gender</th>\n",
              "      <th>Age</th>\n",
              "      <th>Tenure</th>\n",
              "      <th>Balance</th>\n",
              "      <th>NumOfProducts</th>\n",
              "      <th>HasCrCard</th>\n",
              "      <th>IsActiveMember</th>\n",
              "      <th>EstimatedSalary</th>\n",
              "      <th>Exited</th>\n",
              "    </tr>\n",
              "  </thead>\n",
              "  <tbody>\n",
              "    <tr>\n",
              "      <th>0</th>\n",
              "      <td>1</td>\n",
              "      <td>15634602</td>\n",
              "      <td>Hargrave</td>\n",
              "      <td>619</td>\n",
              "      <td>France</td>\n",
              "      <td>Female</td>\n",
              "      <td>42</td>\n",
              "      <td>2</td>\n",
              "      <td>0.00</td>\n",
              "      <td>1</td>\n",
              "      <td>1</td>\n",
              "      <td>1</td>\n",
              "      <td>101348.88</td>\n",
              "      <td>1</td>\n",
              "    </tr>\n",
              "    <tr>\n",
              "      <th>1</th>\n",
              "      <td>2</td>\n",
              "      <td>15647311</td>\n",
              "      <td>Hill</td>\n",
              "      <td>608</td>\n",
              "      <td>Spain</td>\n",
              "      <td>Female</td>\n",
              "      <td>41</td>\n",
              "      <td>1</td>\n",
              "      <td>83807.86</td>\n",
              "      <td>1</td>\n",
              "      <td>0</td>\n",
              "      <td>1</td>\n",
              "      <td>112542.58</td>\n",
              "      <td>0</td>\n",
              "    </tr>\n",
              "    <tr>\n",
              "      <th>2</th>\n",
              "      <td>3</td>\n",
              "      <td>15619304</td>\n",
              "      <td>Onio</td>\n",
              "      <td>502</td>\n",
              "      <td>France</td>\n",
              "      <td>Female</td>\n",
              "      <td>42</td>\n",
              "      <td>8</td>\n",
              "      <td>159660.80</td>\n",
              "      <td>3</td>\n",
              "      <td>1</td>\n",
              "      <td>0</td>\n",
              "      <td>113931.57</td>\n",
              "      <td>1</td>\n",
              "    </tr>\n",
              "    <tr>\n",
              "      <th>3</th>\n",
              "      <td>4</td>\n",
              "      <td>15701354</td>\n",
              "      <td>Boni</td>\n",
              "      <td>699</td>\n",
              "      <td>France</td>\n",
              "      <td>Female</td>\n",
              "      <td>39</td>\n",
              "      <td>1</td>\n",
              "      <td>0.00</td>\n",
              "      <td>2</td>\n",
              "      <td>0</td>\n",
              "      <td>0</td>\n",
              "      <td>93826.63</td>\n",
              "      <td>0</td>\n",
              "    </tr>\n",
              "    <tr>\n",
              "      <th>4</th>\n",
              "      <td>5</td>\n",
              "      <td>15737888</td>\n",
              "      <td>Mitchell</td>\n",
              "      <td>850</td>\n",
              "      <td>Spain</td>\n",
              "      <td>Female</td>\n",
              "      <td>43</td>\n",
              "      <td>2</td>\n",
              "      <td>125510.82</td>\n",
              "      <td>1</td>\n",
              "      <td>1</td>\n",
              "      <td>1</td>\n",
              "      <td>79084.10</td>\n",
              "      <td>0</td>\n",
              "    </tr>\n",
              "  </tbody>\n",
              "</table>\n",
              "</div>"
            ],
            "text/plain": [
              "   RowNumber  CustomerId   Surname  ...  IsActiveMember EstimatedSalary Exited\n",
              "0          1    15634602  Hargrave  ...               1       101348.88      1\n",
              "1          2    15647311      Hill  ...               1       112542.58      0\n",
              "2          3    15619304      Onio  ...               0       113931.57      1\n",
              "3          4    15701354      Boni  ...               0        93826.63      0\n",
              "4          5    15737888  Mitchell  ...               1        79084.10      0\n",
              "\n",
              "[5 rows x 14 columns]"
            ]
          },
          "metadata": {
            "tags": []
          },
          "execution_count": 47
        }
      ]
    },
    {
      "cell_type": "code",
      "metadata": {
        "id": "TmIaeHSLVDuI",
        "colab": {
          "base_uri": "https://localhost:8080/"
        },
        "outputId": "137903d1-0ba5-4b6c-b34e-48cfb60c33e6"
      },
      "source": [
        "#Check the Null values\n",
        "data.isnull().sum()"
      ],
      "execution_count": 48,
      "outputs": [
        {
          "output_type": "execute_result",
          "data": {
            "text/plain": [
              "RowNumber          0\n",
              "CustomerId         0\n",
              "Surname            0\n",
              "CreditScore        0\n",
              "Geography          0\n",
              "Gender             0\n",
              "Age                0\n",
              "Tenure             0\n",
              "Balance            0\n",
              "NumOfProducts      0\n",
              "HasCrCard          0\n",
              "IsActiveMember     0\n",
              "EstimatedSalary    0\n",
              "Exited             0\n",
              "dtype: int64"
            ]
          },
          "metadata": {
            "tags": []
          },
          "execution_count": 48
        }
      ]
    },
    {
      "cell_type": "code",
      "metadata": {
        "id": "G7AScMvSVDxq",
        "colab": {
          "base_uri": "https://localhost:8080/",
          "height": 342
        },
        "outputId": "e8e298b5-9e34-4d3f-a481-707b50135952"
      },
      "source": [
        "sns.countplot(data['Gender'],data=data,palette='winter_r')\n",
        "plt.title('Gender Unique')\n",
        "plt.figure(figsize=(30,20))"
      ],
      "execution_count": 49,
      "outputs": [
        {
          "output_type": "execute_result",
          "data": {
            "text/plain": [
              "<Figure size 2160x1440 with 0 Axes>"
            ]
          },
          "metadata": {
            "tags": []
          },
          "execution_count": 49
        },
        {
          "output_type": "display_data",
          "data": {
            "image/png": "[encoded data removed]",
            "text/plain": [
              "<Figure size 432x288 with 1 Axes>"
            ]
          },
          "metadata": {
            "tags": [],
            "needs_background": "light"
          }
        },
        {
          "output_type": "display_data",
          "data": {
            "text/plain": [
              "<Figure size 2160x1440 with 0 Axes>"
            ]
          },
          "metadata": {
            "tags": []
          }
        }
      ]
    },
    {
      "cell_type": "code",
      "metadata": {
        "id": "2IxCzmaG8EBA",
        "colab": {
          "base_uri": "https://localhost:8080/",
          "height": 342
        },
        "outputId": "658e7af2-82ec-40d1-e157-7e7e74c3c060"
      },
      "source": [
        "sns.countplot(data['Geography'],hue = 'Exited',data=data,palette='spring')\n",
        "plt.title('Geography Unique')\n",
        "plt.figure(figsize=(30,20))"
      ],
      "execution_count": 50,
      "outputs": [
        {
          "output_type": "execute_result",
          "data": {
            "text/plain": [
              "<Figure size 2160x1440 with 0 Axes>"
            ]
          },
          "metadata": {
            "tags": []
          },
          "execution_count": 50
        },
        {
          "output_type": "display_data",
          "data": {
            "image/png": "[encoded data removed]",
            "text/plain": [
              "<Figure size 432x288 with 1 Axes>"
            ]
          },
          "metadata": {
            "tags": [],
            "needs_background": "light"
          }
        },
        {
          "output_type": "display_data",
          "data": {
            "text/plain": [
              "<Figure size 2160x1440 with 0 Axes>"
            ]
          },
          "metadata": {
            "tags": []
          }
        }
      ]
    },
    {
      "cell_type": "code",
      "metadata": {
        "id": "1JKCyqBF8EFI",
        "colab": {
          "base_uri": "https://localhost:8080/",
          "height": 342
        },
        "outputId": "39f3f9ef-2695-4ce0-bcd1-36599b340692"
      },
      "source": [
        "sns.countplot(data['Exited'],data=data,palette='winter_r')\n",
        "plt.title('Exited Unique')\n",
        "plt.figure(figsize=(30,20))"
      ],
      "execution_count": 51,
      "outputs": [
        {
          "output_type": "execute_result",
          "data": {
            "text/plain": [
              "<Figure size 2160x1440 with 0 Axes>"
            ]
          },
          "metadata": {
            "tags": []
          },
          "execution_count": 51
        },
        {
          "output_type": "display_data",
          "data": {
            "image/png": "[encoded data removed]",
            "text/plain": [
              "<Figure size 432x288 with 1 Axes>"
            ]
          },
          "metadata": {
            "tags": [],
            "needs_background": "light"
          }
        },
        {
          "output_type": "display_data",
          "data": {
            "text/plain": [
              "<Figure size 2160x1440 with 0 Axes>"
            ]
          },
          "metadata": {
            "tags": []
          }
        }
      ]
    },
    {
      "cell_type": "code",
      "metadata": {
        "id": "lsX_l00Y8EIR",
        "colab": {
          "base_uri": "https://localhost:8080/",
          "height": 432
        },
        "outputId": "cc98b9b6-2f49-4f55-d266-bf533499bd36"
      },
      "source": [
        "labels = 'Exited', 'Retained'\n",
        "sizes = [data.Exited[data['Exited']==1].count(), data.Exited[data['Exited']==0].count()]\n",
        "explode = (0, 0.1)\n",
        "fig1, ax1 = plt.subplots(figsize=(9, 7))\n",
        "ax1.pie(sizes, explode=explode, labels=labels, autopct='%1.1f%%',\n",
        "        shadow=True, startangle=90)\n",
        "ax1.axis('equal')\n",
        "plt.title(\"Proportion of customer churned and retained\", size = 20)\n",
        "plt.show()"
      ],
      "execution_count": 52,
      "outputs": [
        {
          "output_type": "display_data",
          "data": {
            "image/png": "[encoded data removed]",
            "text/plain": [
              "<Figure size 648x504 with 1 Axes>"
            ]
          },
          "metadata": {
            "tags": []
          }
        }
      ]
    },
    {
      "cell_type": "code",
      "metadata": {
        "id": "c2cGDyZO8ELG"
      },
      "source": [
        "#Drop the unwanted columns from the data set\n",
        "x=data.drop(labels=[\"RowNumber\",\"Surname\",\"CustomerId\",\"Exited\"],axis=1)\n"
      ],
      "execution_count": 53,
      "outputs": []
    },
    {
      "cell_type": "code",
      "metadata": {
        "id": "Csd-smpK8ENu",
        "colab": {
          "base_uri": "https://localhost:8080/",
          "height": 376
        },
        "outputId": "b7a0daf1-1c2b-4f9a-9633-9adb6ab349b9"
      },
      "source": [
        "#Find the Covariance of each continuous variable in our data set\n",
        "sns.set()\n",
        "sns.set(font_scale = 1.25)\n",
        "sns.heatmap(x.corr(), annot = True,fmt = \".1f\")\n",
        "plt.show()"
      ],
      "execution_count": 97,
      "outputs": [
        {
          "output_type": "display_data",
          "data": {
            "image/png": "[encoded data removed]",
            "text/plain": [
              "<Figure size 432x288 with 2 Axes>"
            ]
          },
          "metadata": {
            "tags": []
          }
        }
      ]
    },
    {
      "cell_type": "code",
      "metadata": {
        "id": "q0VXcJty8EQm",
        "colab": {
          "base_uri": "https://localhost:8080/"
        },
        "outputId": "971edf7a-97a6-4ca5-e731-eeca0ac9f2b5"
      },
      "source": [
        "#Find the uniques values of the Exited feature\n",
        "data['Exited'].value_counts()"
      ],
      "execution_count": 55,
      "outputs": [
        {
          "output_type": "execute_result",
          "data": {
            "text/plain": [
              "0    7963\n",
              "1    2037\n",
              "Name: Exited, dtype: int64"
            ]
          },
          "metadata": {
            "tags": []
          },
          "execution_count": 55
        }
      ]
    },
    {
      "cell_type": "code",
      "metadata": {
        "id": "vGYcpclJ8EVX"
      },
      "source": [
        "y=data[\"Exited\"]"
      ],
      "execution_count": 56,
      "outputs": []
    },
    {
      "cell_type": "code",
      "metadata": {
        "id": "lrTwWUAe8EYr",
        "colab": {
          "base_uri": "https://localhost:8080/",
          "height": 195
        },
        "outputId": "a3026b41-5c18-488b-e67e-b682ffe66c9b"
      },
      "source": [
        "x.head()"
      ],
      "execution_count": 57,
      "outputs": [
        {
          "output_type": "execute_result",
          "data": {
            "text/html": [
              "<div>\n",
              "<style scoped>\n",
              "    .dataframe tbody tr th:only-of-type {\n",
              "        vertical-align: middle;\n",
              "    }\n",
              "\n",
              "    .dataframe tbody tr th {\n",
              "        vertical-align: top;\n",
              "    }\n",
              "\n",
              "    .dataframe thead th {\n",
              "        text-align: right;\n",
              "    }\n",
              "</style>\n",
              "<table border=\"1\" class=\"dataframe\">\n",
              "  <thead>\n",
              "    <tr style=\"text-align: right;\">\n",
              "      <th></th>\n",
              "      <th>CreditScore</th>\n",
              "      <th>Geography</th>\n",
              "      <th>Gender</th>\n",
              "      <th>Age</th>\n",
              "      <th>Tenure</th>\n",
              "      <th>Balance</th>\n",
              "      <th>NumOfProducts</th>\n",
              "      <th>HasCrCard</th>\n",
              "      <th>IsActiveMember</th>\n",
              "      <th>EstimatedSalary</th>\n",
              "    </tr>\n",
              "  </thead>\n",
              "  <tbody>\n",
              "    <tr>\n",
              "      <th>0</th>\n",
              "      <td>619</td>\n",
              "      <td>France</td>\n",
              "      <td>Female</td>\n",
              "      <td>42</td>\n",
              "      <td>2</td>\n",
              "      <td>0.00</td>\n",
              "      <td>1</td>\n",
              "      <td>1</td>\n",
              "      <td>1</td>\n",
              "      <td>101348.88</td>\n",
              "    </tr>\n",
              "    <tr>\n",
              "      <th>1</th>\n",
              "      <td>608</td>\n",
              "      <td>Spain</td>\n",
              "      <td>Female</td>\n",
              "      <td>41</td>\n",
              "      <td>1</td>\n",
              "      <td>83807.86</td>\n",
              "      <td>1</td>\n",
              "      <td>0</td>\n",
              "      <td>1</td>\n",
              "      <td>112542.58</td>\n",
              "    </tr>\n",
              "    <tr>\n",
              "      <th>2</th>\n",
              "      <td>502</td>\n",
              "      <td>France</td>\n",
              "      <td>Female</td>\n",
              "      <td>42</td>\n",
              "      <td>8</td>\n",
              "      <td>159660.80</td>\n",
              "      <td>3</td>\n",
              "      <td>1</td>\n",
              "      <td>0</td>\n",
              "      <td>113931.57</td>\n",
              "    </tr>\n",
              "    <tr>\n",
              "      <th>3</th>\n",
              "      <td>699</td>\n",
              "      <td>France</td>\n",
              "      <td>Female</td>\n",
              "      <td>39</td>\n",
              "      <td>1</td>\n",
              "      <td>0.00</td>\n",
              "      <td>2</td>\n",
              "      <td>0</td>\n",
              "      <td>0</td>\n",
              "      <td>93826.63</td>\n",
              "    </tr>\n",
              "    <tr>\n",
              "      <th>4</th>\n",
              "      <td>850</td>\n",
              "      <td>Spain</td>\n",
              "      <td>Female</td>\n",
              "      <td>43</td>\n",
              "      <td>2</td>\n",
              "      <td>125510.82</td>\n",
              "      <td>1</td>\n",
              "      <td>1</td>\n",
              "      <td>1</td>\n",
              "      <td>79084.10</td>\n",
              "    </tr>\n",
              "  </tbody>\n",
              "</table>\n",
              "</div>"
            ],
            "text/plain": [
              "   CreditScore Geography  Gender  ...  HasCrCard  IsActiveMember  EstimatedSalary\n",
              "0          619    France  Female  ...          1               1        101348.88\n",
              "1          608     Spain  Female  ...          0               1        112542.58\n",
              "2          502    France  Female  ...          1               0        113931.57\n",
              "3          699    France  Female  ...          0               0         93826.63\n",
              "4          850     Spain  Female  ...          1               1         79084.10\n",
              "\n",
              "[5 rows x 10 columns]"
            ]
          },
          "metadata": {
            "tags": []
          },
          "execution_count": 57
        }
      ]
    },
    {
      "cell_type": "code",
      "metadata": {
        "id": "O5-7QH5W8Ebf"
      },
      "source": [
        "#Conver factor variable to numeric values\n",
        "from sklearn.preprocessing import LabelEncoder\n",
        "label=LabelEncoder()\n",
        "x['Geography']=label.fit_transform(x.Geography)\n",
        "x['Gender']=label.fit_transform(x.Gender)"
      ],
      "execution_count": 58,
      "outputs": []
    },
    {
      "cell_type": "code",
      "metadata": {
        "id": "ytIgdg5_8bYL",
        "colab": {
          "base_uri": "https://localhost:8080/"
        },
        "outputId": "914305eb-c41e-4ac6-d373-3204268ad3c3"
      },
      "source": [
        "#Unique values for Gender and Geography\n",
        "print(\"Gender Unique values are \" +\"\\n\"+ str(x['Gender'].value_counts()))\n",
        "print(\"Geography Unique values are \" +\"\\n\"+ str(x['Geography'].value_counts()))"
      ],
      "execution_count": 59,
      "outputs": [
        {
          "output_type": "stream",
          "text": [
            "Gender Unique values are \n",
            "1    5457\n",
            "0    4543\n",
            "Name: Gender, dtype: int64\n",
            "Geography Unique values are \n",
            "0    5014\n",
            "1    2509\n",
            "2    2477\n",
            "Name: Geography, dtype: int64\n"
          ],
          "name": "stdout"
        }
      ]
    },
    {
      "cell_type": "code",
      "metadata": {
        "id": "S59NILX98ba-"
      },
      "source": [
        "# Get the dummies variables for label encoder values\n",
        "x=pd.get_dummies(x,drop_first=True,columns=['Geography'])\n",
        "x=pd.get_dummies(x,drop_first=True,columns=['Gender'])\n"
      ],
      "execution_count": 60,
      "outputs": []
    },
    {
      "cell_type": "markdown",
      "metadata": {
        "id": "ITCxdj3LLHbP"
      },
      "source": [
        "### Feature Scaling "
      ]
    },
    {
      "cell_type": "code",
      "metadata": {
        "id": "kl0S0rjP8bdw"
      },
      "source": [
        "# Feature scaling \n",
        "from sklearn.preprocessing import StandardScaler\n",
        "from sklearn.model_selection import train_test_split\n",
        "sc=StandardScaler()\n",
        "x_train,x_test,y_train,y_test= train_test_split(x, y, test_size = 0.2, random_state = 0, stratify = y)\n",
        "x_train=sc.fit_transform(x_train)\n",
        "x_test=sc.fit_transform(x_test)"
      ],
      "execution_count": 61,
      "outputs": []
    },
    {
      "cell_type": "code",
      "metadata": {
        "id": "_sCaNt2-8bgl",
        "colab": {
          "base_uri": "https://localhost:8080/"
        },
        "outputId": "95ecb9ef-c28a-40ac-bfec-d350d4b37707"
      },
      "source": [
        "x_train"
      ],
      "execution_count": 62,
      "outputs": [
        {
          "output_type": "execute_result",
          "data": {
            "text/plain": [
              "array([[-1.24021723,  0.77986083,  0.35390313, ..., -0.57812007,\n",
              "        -0.57504086, -1.09665089],\n",
              "       [ 0.75974873, -0.27382717,  0.35390313, ...,  1.72974448,\n",
              "        -0.57504086,  0.91186722],\n",
              "       [-1.72725557, -0.9443559 , -0.3390904 , ..., -0.57812007,\n",
              "        -0.57504086, -1.09665089],\n",
              "       ...,\n",
              "       [-0.51484098,  0.87565065,  1.39339343, ...,  1.72974448,\n",
              "        -0.57504086,  0.91186722],\n",
              "       [ 0.73902369, -0.36961699, -1.03208393, ..., -0.57812007,\n",
              "        -0.57504086, -1.09665089],\n",
              "       [ 0.95663657, -1.32751517,  0.35390313, ..., -0.57812007,\n",
              "         1.73900686,  0.91186722]])"
            ]
          },
          "metadata": {
            "tags": []
          },
          "execution_count": 62
        }
      ]
    },
    {
      "cell_type": "markdown",
      "metadata": {
        "id": "WOFs-IXA8p77"
      },
      "source": [
        "### Build ANN with one hidden layer\n"
      ]
    },
    {
      "cell_type": "code",
      "metadata": {
        "id": "rwmtZAVZ8bmK"
      },
      "source": [
        "import tensorflow as tf\n",
        "from tensorflow import keras\n",
        "from tensorflow.keras import Sequential\n",
        "from tensorflow.keras.layers import Flatten, Dense"
      ],
      "execution_count": 63,
      "outputs": []
    },
    {
      "cell_type": "code",
      "metadata": {
        "id": "XA1oXehv8bpG",
        "colab": {
          "base_uri": "https://localhost:8080/"
        },
        "outputId": "20133ed4-e4ef-4669-fbdb-8a7b1b1c83d2"
      },
      "source": [
        "x.info()"
      ],
      "execution_count": 64,
      "outputs": [
        {
          "output_type": "stream",
          "text": [
            "<class 'pandas.core.frame.DataFrame'>\n",
            "RangeIndex: 10000 entries, 0 to 9999\n",
            "Data columns (total 11 columns):\n",
            " #   Column           Non-Null Count  Dtype  \n",
            "---  ------           --------------  -----  \n",
            " 0   CreditScore      10000 non-null  int64  \n",
            " 1   Age              10000 non-null  int64  \n",
            " 2   Tenure           10000 non-null  int64  \n",
            " 3   Balance          10000 non-null  float64\n",
            " 4   NumOfProducts    10000 non-null  int64  \n",
            " 5   HasCrCard        10000 non-null  int64  \n",
            " 6   IsActiveMember   10000 non-null  int64  \n",
            " 7   EstimatedSalary  10000 non-null  float64\n",
            " 8   Geography_1      10000 non-null  uint8  \n",
            " 9   Geography_2      10000 non-null  uint8  \n",
            " 10  Gender_1         10000 non-null  uint8  \n",
            "dtypes: float64(2), int64(6), uint8(3)\n",
            "memory usage: 654.4 KB\n"
          ],
          "name": "stdout"
        }
      ]
    },
    {
      "cell_type": "code",
      "metadata": {
        "id": "D70TASHp8brv",
        "colab": {
          "base_uri": "https://localhost:8080/"
        },
        "outputId": "2fddaa70-1e58-4d6b-c2b1-96ba95c6c369"
      },
      "source": [
        "print(tf.__version__)"
      ],
      "execution_count": 65,
      "outputs": [
        {
          "output_type": "stream",
          "text": [
            "2.4.1\n"
          ],
          "name": "stdout"
        }
      ]
    },
    {
      "cell_type": "code",
      "metadata": {
        "id": "0L1ABPDn8but"
      },
      "source": [
        "model=Sequential()\n",
        "# Firstly, we will develop the input layer \n",
        "model.add(Dense(x.shape[1],activation=\"relu\",kernel_initializer = 'he_normal',bias_initializer='zeros'))\n",
        "# Hidden Layer\n",
        "model.add(Dense(128,activation=\"relu\"))\n",
        "#Out put layer\n",
        "model.add(Dense(1,activation=\"sigmoid\"))"
      ],
      "execution_count": 66,
      "outputs": []
    },
    {
      "cell_type": "markdown",
      "metadata": {
        "id": "dFDJCY8v9Hly"
      },
      "source": [
        "### Compiling the ANN"
      ]
    },
    {
      "cell_type": "code",
      "metadata": {
        "id": "ie1_U8pd8bxG"
      },
      "source": [
        "model.compile(optimizer=\"adamax\",loss='binary_crossentropy', metrics=['accuracy'])"
      ],
      "execution_count": 67,
      "outputs": []
    },
    {
      "cell_type": "code",
      "metadata": {
        "id": "u3A_hz_Y8EeO",
        "colab": {
          "base_uri": "https://localhost:8080/"
        },
        "outputId": "70bf1370-e765-4afc-c6b5-e955c9ceb438"
      },
      "source": [
        "model.fit(x=x_train,y=y_train.to_numpy(),batch_size=10,epochs=20,verbose=1)"
      ],
      "execution_count": 68,
      "outputs": [
        {
          "output_type": "stream",
          "text": [
            "Epoch 1/20\n",
            "800/800 [==============================] - 1s 1ms/step - loss: 0.5244 - accuracy: 0.7740\n",
            "Epoch 2/20\n",
            "800/800 [==============================] - 1s 1ms/step - loss: 0.4416 - accuracy: 0.8124\n",
            "Epoch 3/20\n",
            "800/800 [==============================] - 1s 1ms/step - loss: 0.4247 - accuracy: 0.8213\n",
            "Epoch 4/20\n",
            "800/800 [==============================] - 1s 1ms/step - loss: 0.4334 - accuracy: 0.8174\n",
            "Epoch 5/20\n",
            "800/800 [==============================] - 1s 1ms/step - loss: 0.4180 - accuracy: 0.8275\n",
            "Epoch 6/20\n",
            "800/800 [==============================] - 1s 1ms/step - loss: 0.3941 - accuracy: 0.8361\n",
            "Epoch 7/20\n",
            "800/800 [==============================] - 1s 1ms/step - loss: 0.4152 - accuracy: 0.8291\n",
            "Epoch 8/20\n",
            "800/800 [==============================] - 1s 1ms/step - loss: 0.4034 - accuracy: 0.8350\n",
            "Epoch 9/20\n",
            "800/800 [==============================] - 1s 1ms/step - loss: 0.4017 - accuracy: 0.8353\n",
            "Epoch 10/20\n",
            "800/800 [==============================] - 1s 1ms/step - loss: 0.4085 - accuracy: 0.8354\n",
            "Epoch 11/20\n",
            "800/800 [==============================] - 1s 1ms/step - loss: 0.3725 - accuracy: 0.8483\n",
            "Epoch 12/20\n",
            "800/800 [==============================] - 1s 1ms/step - loss: 0.3860 - accuracy: 0.8477\n",
            "Epoch 13/20\n",
            "800/800 [==============================] - 1s 1ms/step - loss: 0.3916 - accuracy: 0.8460\n",
            "Epoch 14/20\n",
            "800/800 [==============================] - 1s 1ms/step - loss: 0.3781 - accuracy: 0.8506\n",
            "Epoch 15/20\n",
            "800/800 [==============================] - 1s 1ms/step - loss: 0.3754 - accuracy: 0.8487\n",
            "Epoch 16/20\n",
            "800/800 [==============================] - 1s 1ms/step - loss: 0.3625 - accuracy: 0.8555\n",
            "Epoch 17/20\n",
            "800/800 [==============================] - 1s 1ms/step - loss: 0.3574 - accuracy: 0.8573\n",
            "Epoch 18/20\n",
            "800/800 [==============================] - 1s 1ms/step - loss: 0.3584 - accuracy: 0.8535\n",
            "Epoch 19/20\n",
            "800/800 [==============================] - 1s 1ms/step - loss: 0.3390 - accuracy: 0.8652\n",
            "Epoch 20/20\n",
            "800/800 [==============================] - 1s 1ms/step - loss: 0.3442 - accuracy: 0.8605\n"
          ],
          "name": "stdout"
        },
        {
          "output_type": "execute_result",
          "data": {
            "text/plain": [
              "<tensorflow.python.keras.callbacks.History at 0x7fa28fc42e10>"
            ]
          },
          "metadata": {
            "tags": []
          },
          "execution_count": 68
        }
      ]
    },
    {
      "cell_type": "code",
      "metadata": {
        "colab": {
          "base_uri": "https://localhost:8080/"
        },
        "id": "RBSxU2X0-srL",
        "outputId": "4f80927e-f646-4d2a-e601-2cdf0d259a48"
      },
      "source": [
        "# Predict the train data set output values\n",
        "y_pred_tr=model.predict_classes(x_train)\n",
        "\n",
        "print(y_pred_tr)"
      ],
      "execution_count": 69,
      "outputs": [
        {
          "output_type": "stream",
          "text": [
            "[[1]\n",
            " [0]\n",
            " [0]\n",
            " ...\n",
            " [0]\n",
            " [0]\n",
            " [0]]\n"
          ],
          "name": "stdout"
        }
      ]
    },
    {
      "cell_type": "code",
      "metadata": {
        "colab": {
          "base_uri": "https://localhost:8080/"
        },
        "id": "X807_kAD-stH",
        "outputId": "482f0fe3-de95-43e6-97ef-149fa59037eb"
      },
      "source": [
        "## Find the Accuracy, Precision and recall of the train data set\n",
        "from sklearn.metrics import confusion_matrix,classification_report,accuracy_score\n",
        "train_cm=confusion_matrix(y_train,y_pred_tr)\n",
        "print(\"accuracy of the train data set\" + \" \"+ str(accuracy_score(y_train, y_pred_tr)))\n",
        "print(classification_report(y_train,y_pred_tr))"
      ],
      "execution_count": 70,
      "outputs": [
        {
          "output_type": "stream",
          "text": [
            "accuracy of the train data set 0.86025\n",
            "              precision    recall  f1-score   support\n",
            "\n",
            "           0       0.87      0.97      0.92      6370\n",
            "           1       0.79      0.43      0.56      1630\n",
            "\n",
            "    accuracy                           0.86      8000\n",
            "   macro avg       0.83      0.70      0.74      8000\n",
            "weighted avg       0.85      0.86      0.84      8000\n",
            "\n"
          ],
          "name": "stdout"
        }
      ]
    },
    {
      "cell_type": "code",
      "metadata": {
        "colab": {
          "base_uri": "https://localhost:8080/",
          "height": 471
        },
        "id": "pjybG6-j-swZ",
        "outputId": "cb2a6827-f3f4-4808-8740-76d545ddd635"
      },
      "source": [
        "import seaborn as sn\n",
        "cm = tf.math.confusion_matrix(labels=y_train,predictions=y_pred_tr)\n",
        "\n",
        "plt.figure(figsize = (10,7))\n",
        "sn.heatmap(cm, annot=True, fmt='d')\n",
        "plt.xlabel('Predicted')\n",
        "plt.ylabel('Truth')"
      ],
      "execution_count": 71,
      "outputs": [
        {
          "output_type": "execute_result",
          "data": {
            "text/plain": [
              "Text(62.5, 0.5, 'Truth')"
            ]
          },
          "metadata": {
            "tags": []
          },
          "execution_count": 71
        },
        {
          "output_type": "display_data",
          "data": {
            "image/png": "[encoded data removed]",
            "text/plain": [
              "<Figure size 720x504 with 2 Axes>"
            ]
          },
          "metadata": {
            "tags": []
          }
        }
      ]
    },
    {
      "cell_type": "code",
      "metadata": {
        "colab": {
          "base_uri": "https://localhost:8080/"
        },
        "id": "cfi_jMzo-syF",
        "outputId": "c2fdc4c9-54a3-4746-bbe6-bdf446953ca1"
      },
      "source": [
        "## Find the Accuracy, Precision and recall of the test data set\n",
        "# fit the model with test data set\n",
        "ypred_te=model.predict_classes(x_test)\n",
        "print(model.evaluate(x_test,y_test.to_numpy()))\n",
        "from sklearn.metrics import confusion_matrix,classification_report,accuracy_score\n",
        "test_cm=confusion_matrix(y_test,ypred_te)\n",
        "print(\"accuracy of the test data set\" + \" \"+ str(accuracy_score(y_test, ypred_te)))\n",
        "print(classification_report(y_test,ypred_te))"
      ],
      "execution_count": 72,
      "outputs": [
        {
          "output_type": "stream",
          "text": [
            "63/63 [==============================] - 0s 1ms/step - loss: 0.3623 - accuracy: 0.8555\n",
            "[0.36228030920028687, 0.8554999828338623]\n",
            "accuracy of the test data set 0.8555\n",
            "              precision    recall  f1-score   support\n",
            "\n",
            "           0       0.86      0.98      0.92      1593\n",
            "           1       0.82      0.37      0.51       407\n",
            "\n",
            "    accuracy                           0.86      2000\n",
            "   macro avg       0.84      0.67      0.71      2000\n",
            "weighted avg       0.85      0.86      0.83      2000\n",
            "\n"
          ],
          "name": "stdout"
        }
      ]
    },
    {
      "cell_type": "code",
      "metadata": {
        "colab": {
          "base_uri": "https://localhost:8080/",
          "height": 471
        },
        "id": "Vs8RYPA_-s1-",
        "outputId": "bca91d65-8779-4339-efa9-549ab799b154"
      },
      "source": [
        "import seaborn as sn\n",
        "cm = tf.math.confusion_matrix(labels=y_test,predictions=ypred_te)\n",
        "\n",
        "plt.figure(figsize = (10,7))\n",
        "sn.heatmap(cm, annot=True, fmt='d')\n",
        "plt.xlabel('Predicted')\n",
        "plt.ylabel('Truth')"
      ],
      "execution_count": 73,
      "outputs": [
        {
          "output_type": "execute_result",
          "data": {
            "text/plain": [
              "Text(62.5, 0.5, 'Truth')"
            ]
          },
          "metadata": {
            "tags": []
          },
          "execution_count": 73
        },
        {
          "output_type": "display_data",
          "data": {
            "image/png": "[encoded data removed]",
            "text/plain": [
              "<Figure size 720x504 with 2 Axes>"
            ]
          },
          "metadata": {
            "tags": []
          }
        }
      ]
    },
    {
      "cell_type": "markdown",
      "metadata": {
        "id": "7-l47N2o_HkW"
      },
      "source": [
        "### Build ANN with two hidden layer and different optimizer function¶"
      ]
    },
    {
      "cell_type": "code",
      "metadata": {
        "id": "aPK65WIr-s7d"
      },
      "source": [
        "initializer = tf.keras.initializers.VarianceScaling(scale=0.1, mode='fan_in', distribution='uniform')"
      ],
      "execution_count": 74,
      "outputs": []
    },
    {
      "cell_type": "code",
      "metadata": {
        "id": "BgrAlCQl-s9P"
      },
      "source": [
        "model2=Sequential()\n",
        "# Firstly, we will develop the input layer \n",
        "model2.add(Dense(x.shape[1],activation=\"elu\",kernel_initializer = initializer,bias_initializer='zeros',input_dim = x.shape[1]))\n",
        "# first Hidden Layer\n",
        "model2.add(Dense(128,activation=\"elu\",kernel_initializer = initializer))\n",
        "#Second hidden layer\n",
        "model2.add(Dense(64,activation=\"elu\",kernel_initializer = initializer))\n",
        "#Out put layer\n",
        "model2.add(Dense(1,activation=\"sigmoid\"))"
      ],
      "execution_count": 75,
      "outputs": []
    },
    {
      "cell_type": "markdown",
      "metadata": {
        "id": "pjmMtq8c_W6q"
      },
      "source": [
        "### Compiling the second ANN"
      ]
    },
    {
      "cell_type": "code",
      "metadata": {
        "colab": {
          "base_uri": "https://localhost:8080/"
        },
        "id": "h8ujakTV-tBO",
        "outputId": "f05b0c78-c066-46fd-9cc7-8226e140347d"
      },
      "source": [
        "model2.compile(optimizer=\"adamax\",loss='binary_crossentropy', metrics=['accuracy'])\n",
        "model2.fit(x=x_train,y=y_train.to_numpy(),batch_size=10,epochs=20,verbose=1)"
      ],
      "execution_count": 76,
      "outputs": [
        {
          "output_type": "stream",
          "text": [
            "Epoch 1/20\n",
            "800/800 [==============================] - 1s 1ms/step - loss: 0.4833 - accuracy: 0.7981\n",
            "Epoch 2/20\n",
            "800/800 [==============================] - 1s 1ms/step - loss: 0.4305 - accuracy: 0.8113\n",
            "Epoch 3/20\n",
            "800/800 [==============================] - 1s 1ms/step - loss: 0.4217 - accuracy: 0.8122\n",
            "Epoch 4/20\n",
            "800/800 [==============================] - 1s 1ms/step - loss: 0.4276 - accuracy: 0.8101\n",
            "Epoch 5/20\n",
            "800/800 [==============================] - 1s 1ms/step - loss: 0.4280 - accuracy: 0.8059\n",
            "Epoch 6/20\n",
            "800/800 [==============================] - 1s 1ms/step - loss: 0.4147 - accuracy: 0.8227\n",
            "Epoch 7/20\n",
            "800/800 [==============================] - 1s 1ms/step - loss: 0.4224 - accuracy: 0.8240\n",
            "Epoch 8/20\n",
            "800/800 [==============================] - 1s 1ms/step - loss: 0.4078 - accuracy: 0.8307\n",
            "Epoch 9/20\n",
            "800/800 [==============================] - 1s 1ms/step - loss: 0.4087 - accuracy: 0.8266\n",
            "Epoch 10/20\n",
            "800/800 [==============================] - 1s 1ms/step - loss: 0.4051 - accuracy: 0.8301\n",
            "Epoch 11/20\n",
            "800/800 [==============================] - 1s 1ms/step - loss: 0.4149 - accuracy: 0.8240\n",
            "Epoch 12/20\n",
            "800/800 [==============================] - 1s 1ms/step - loss: 0.4088 - accuracy: 0.8325\n",
            "Epoch 13/20\n",
            "800/800 [==============================] - 1s 1ms/step - loss: 0.3843 - accuracy: 0.8429\n",
            "Epoch 14/20\n",
            "800/800 [==============================] - 1s 1ms/step - loss: 0.3840 - accuracy: 0.8434\n",
            "Epoch 15/20\n",
            "800/800 [==============================] - 1s 1ms/step - loss: 0.3626 - accuracy: 0.8484\n",
            "Epoch 16/20\n",
            "800/800 [==============================] - 1s 1ms/step - loss: 0.3489 - accuracy: 0.8628\n",
            "Epoch 17/20\n",
            "800/800 [==============================] - 1s 1ms/step - loss: 0.3434 - accuracy: 0.8614\n",
            "Epoch 18/20\n",
            "800/800 [==============================] - 1s 1ms/step - loss: 0.3368 - accuracy: 0.8644\n",
            "Epoch 19/20\n",
            "800/800 [==============================] - 1s 1ms/step - loss: 0.3312 - accuracy: 0.8671\n",
            "Epoch 20/20\n",
            "800/800 [==============================] - 1s 1ms/step - loss: 0.3354 - accuracy: 0.8623\n"
          ],
          "name": "stdout"
        },
        {
          "output_type": "execute_result",
          "data": {
            "text/plain": [
              "<tensorflow.python.keras.callbacks.History at 0x7fa28ea4e850>"
            ]
          },
          "metadata": {
            "tags": []
          },
          "execution_count": 76
        }
      ]
    },
    {
      "cell_type": "markdown",
      "metadata": {
        "id": "jsyONmqG_i0R"
      },
      "source": [
        "Nevertheless,in the both model we got same accuracy so, Now we have to handle the imbalance data set and do some sampling techniques such as over sampling, under sampling and underover sampling techniques. This techniques will help to enhance our total accuracy"
      ]
    },
    {
      "cell_type": "code",
      "metadata": {
        "id": "i7_Z-Yst_fvm"
      },
      "source": [
        "from imblearn.over_sampling import SMOTE\n",
        "smote = SMOTE(sampling_strategy='minority')\n",
        "x_sm, y_sm = smote.fit_sample(x_train, y_train)"
      ],
      "execution_count": 90,
      "outputs": []
    },
    {
      "cell_type": "code",
      "metadata": {
        "colab": {
          "base_uri": "https://localhost:8080/"
        },
        "id": "cwvfiSnpBnC5",
        "outputId": "44ee3ecd-0292-402a-8dbe-57a7a73fdb01"
      },
      "source": [
        "y_sm"
      ],
      "execution_count": 91,
      "outputs": [
        {
          "output_type": "execute_result",
          "data": {
            "text/plain": [
              "array([1, 0, 0, ..., 1, 1, 1])"
            ]
          },
          "metadata": {
            "tags": []
          },
          "execution_count": 91
        }
      ]
    },
    {
      "cell_type": "code",
      "metadata": {
        "colab": {
          "base_uri": "https://localhost:8080/"
        },
        "id": "yx5YT9bQBDEx",
        "outputId": "b90098ef-73c6-48a9-e1b0-39a3a4800b4d"
      },
      "source": [
        "print(x_sm)"
      ],
      "execution_count": 92,
      "outputs": [
        {
          "output_type": "stream",
          "text": [
            "[[-1.24021723  0.77986083  0.35390313 ... -0.57812007 -0.57504086\n",
            "  -1.09665089]\n",
            " [ 0.75974873 -0.27382717  0.35390313 ...  1.72974448 -0.57504086\n",
            "   0.91186722]\n",
            " [-1.72725557 -0.9443559  -0.3390904  ... -0.57812007 -0.57504086\n",
            "  -1.09665089]\n",
            " ...\n",
            " [-0.29084949  1.45038956  1.39339343 ... -0.57812007 -0.57504086\n",
            "  -0.46720479]\n",
            " [-0.95357966  0.22214908  1.3144682  ... -0.57812007  1.73900686\n",
            "  -1.09665089]\n",
            " [ 0.89017373  1.2981286  -1.22757301 ... -0.57812007 -0.57504086\n",
            "  -1.09665089]]\n"
          ],
          "name": "stdout"
        }
      ]
    },
    {
      "cell_type": "code",
      "metadata": {
        "id": "uszn61QdBDHy"
      },
      "source": [
        "#from sklearn.model_selection import train_test_split\n",
        "#X_train_im, x_sm, y_sm, y_test_im = train_test_split(x_sm, y_sm, test_size=0.2, random_state=15, stratify=y_sm)"
      ],
      "execution_count": 85,
      "outputs": []
    },
    {
      "cell_type": "markdown",
      "metadata": {
        "id": "2CtQpC36CBQB"
      },
      "source": [
        "### Build ANN wit hone hidden layer after handle the imbalanced issue"
      ]
    },
    {
      "cell_type": "code",
      "metadata": {
        "colab": {
          "base_uri": "https://localhost:8080/"
        },
        "id": "EqjSH9tcAagn",
        "outputId": "7c19383f-4fde-47ad-d95a-56c5aad7d8b0"
      },
      "source": [
        "model=Sequential()\n",
        "# Firstly, we will develop the input layer \n",
        "model.add(Dense(x.shape[1],activation=\"relu\",kernel_initializer = 'he_normal',bias_initializer='zeros'))\n",
        "# Hidden Layer\n",
        "model.add(Dense(128,activation=\"relu\"))\n",
        "#Out put layer\n",
        "model.add(Dense(1,activation=\"sigmoid\"))\n",
        "model.compile(optimizer=\"adamax\",loss='binary_crossentropy', metrics=['accuracy'])\n",
        "model.fit(x=x_sm,y=y_sm,batch_size=10,epochs=20,verbose=1)"
      ],
      "execution_count": 93,
      "outputs": [
        {
          "output_type": "stream",
          "text": [
            "Epoch 1/20\n",
            "1274/1274 [==============================] - 2s 1ms/step - loss: 0.6266 - accuracy: 0.6622\n",
            "Epoch 2/20\n",
            "1274/1274 [==============================] - 1s 1ms/step - loss: 0.5295 - accuracy: 0.7420\n",
            "Epoch 3/20\n",
            "1274/1274 [==============================] - 1s 1ms/step - loss: 0.5020 - accuracy: 0.7528\n",
            "Epoch 4/20\n",
            "1274/1274 [==============================] - 1s 1ms/step - loss: 0.4802 - accuracy: 0.7682\n",
            "Epoch 5/20\n",
            "1274/1274 [==============================] - 1s 1ms/step - loss: 0.4713 - accuracy: 0.7690\n",
            "Epoch 6/20\n",
            "1274/1274 [==============================] - 1s 1ms/step - loss: 0.4649 - accuracy: 0.7756\n",
            "Epoch 7/20\n",
            "1274/1274 [==============================] - 1s 1ms/step - loss: 0.4652 - accuracy: 0.7742\n",
            "Epoch 8/20\n",
            "1274/1274 [==============================] - 1s 1ms/step - loss: 0.4506 - accuracy: 0.7796\n",
            "Epoch 9/20\n",
            "1274/1274 [==============================] - 1s 1ms/step - loss: 0.4332 - accuracy: 0.7918\n",
            "Epoch 10/20\n",
            "1274/1274 [==============================] - 1s 1ms/step - loss: 0.4384 - accuracy: 0.7911\n",
            "Epoch 11/20\n",
            "1274/1274 [==============================] - 1s 1ms/step - loss: 0.4423 - accuracy: 0.7919\n",
            "Epoch 12/20\n",
            "1274/1274 [==============================] - 1s 1ms/step - loss: 0.4362 - accuracy: 0.7927\n",
            "Epoch 13/20\n",
            "1274/1274 [==============================] - 1s 1ms/step - loss: 0.4315 - accuracy: 0.7959\n",
            "Epoch 14/20\n",
            "1274/1274 [==============================] - 1s 1ms/step - loss: 0.4182 - accuracy: 0.8076\n",
            "Epoch 15/20\n",
            "1274/1274 [==============================] - 1s 1ms/step - loss: 0.4220 - accuracy: 0.8014\n",
            "Epoch 16/20\n",
            "1274/1274 [==============================] - 2s 1ms/step - loss: 0.4235 - accuracy: 0.7994\n",
            "Epoch 17/20\n",
            "1274/1274 [==============================] - 1s 1ms/step - loss: 0.4139 - accuracy: 0.8078\n",
            "Epoch 18/20\n",
            "1274/1274 [==============================] - 1s 1ms/step - loss: 0.4080 - accuracy: 0.8126\n",
            "Epoch 19/20\n",
            "1274/1274 [==============================] - 1s 1ms/step - loss: 0.4234 - accuracy: 0.8021\n",
            "Epoch 20/20\n",
            "1274/1274 [==============================] - 1s 1ms/step - loss: 0.4135 - accuracy: 0.8084\n"
          ],
          "name": "stdout"
        },
        {
          "output_type": "execute_result",
          "data": {
            "text/plain": [
              "<tensorflow.python.keras.callbacks.History at 0x7fa28fde2d90>"
            ]
          },
          "metadata": {
            "tags": []
          },
          "execution_count": 93
        }
      ]
    },
    {
      "cell_type": "code",
      "metadata": {
        "colab": {
          "base_uri": "https://localhost:8080/"
        },
        "id": "-uSU7b7uAanG",
        "outputId": "83b4c28b-a77c-4f1d-92c1-9802aa0fa516"
      },
      "source": [
        "# Accuracy for the test data set\n",
        "## Find the Accuracy, Precision and recall of the test data set\n",
        "# fit the model with test data set\n",
        "ypred=model.predict_classes(x_test)\n",
        "print(model.evaluate(x_test,y_test.to_numpy()))\n",
        "from sklearn.metrics import confusion_matrix,classification_report,accuracy_score\n",
        "test_cm=confusion_matrix(y_test,ypred)\n",
        "print(\"accuracy of the test data set\" + \" \"+ str(accuracy_score(y_test, ypred)))\n",
        "print(classification_report(y_test,ypred))"
      ],
      "execution_count": 94,
      "outputs": [
        {
          "output_type": "stream",
          "text": [
            "63/63 [==============================] - 0s 1ms/step - loss: 0.4750 - accuracy: 0.7690\n",
            "[0.47499045729637146, 0.7689999938011169]\n",
            "accuracy of the test data set 0.769\n",
            "              precision    recall  f1-score   support\n",
            "\n",
            "           0       0.93      0.77      0.84      1593\n",
            "           1       0.46      0.76      0.57       407\n",
            "\n",
            "    accuracy                           0.77      2000\n",
            "   macro avg       0.69      0.77      0.71      2000\n",
            "weighted avg       0.83      0.77      0.79      2000\n",
            "\n"
          ],
          "name": "stdout"
        }
      ]
    },
    {
      "cell_type": "markdown",
      "metadata": {
        "id": "vqFjduqlJ_MA"
      },
      "source": [
        "### Conclusion\n",
        "Without doing any hyperparameter our model has an accuracy of around 87 for the train data set and 86 for the test data set and after did the sampling techniques our model accuracy was gone down So, we have to try a different type of sampling techniques as well as do some feature selection in the data set."
      ]
    }
  ]
}